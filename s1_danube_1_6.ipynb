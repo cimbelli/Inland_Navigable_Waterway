{
  "cells": [
    {
      "cell_type": "markdown",
      "metadata": {
        "id": "view-in-github",
        "colab_type": "text"
      },
      "source": [
        "<a href=\"https://colab.research.google.com/github/cimbelli/Inland_Navigable_Waterway/blob/main/s1_danube_1_6.ipynb\" target=\"_parent\"><img src=\"https://colab.research.google.com/assets/colab-badge.svg\" alt=\"Open In Colab\"/></a>"
      ]
    },
    {
      "cell_type": "markdown",
      "source": [
        "### Derive the total km of Serbian navigable waterways of rivers and canals in year ..."
      ],
      "metadata": {
        "id": "kZqg4qmOguK9"
      },
      "id": "kZqg4qmOguK9"
    },
    {
      "cell_type": "code",
      "source": [
        "year = '2018'"
      ],
      "metadata": {
        "id": "pX7XqUebJuGD"
      },
      "id": "pX7XqUebJuGD",
      "execution_count": 17,
      "outputs": []
    },
    {
      "cell_type": "code",
      "source": [
        "### comment below after the first run\n",
        "\n",
        "#!pip install geojson\n",
        "#!pip install earthengine-api\n",
        "\n",
        "#url = 'https://raw.githubusercontent.com/cimbelli/Inland_Navigable_Waterway/main/waterway_poly6.geojson'\n",
        "#!wget $url\n"
      ],
      "metadata": {
        "id": "A4ni3eDfHGQZ"
      },
      "id": "A4ni3eDfHGQZ",
      "execution_count": 18,
      "outputs": []
    },
    {
      "cell_type": "code",
      "execution_count": 19,
      "id": "42316a79-7782-4b60-9c86-22aa34aa3d7b",
      "metadata": {
        "id": "42316a79-7782-4b60-9c86-22aa34aa3d7b"
      },
      "outputs": [],
      "source": [
        "import ee\n",
        "#import time\n",
        "import matplotlib\n",
        "import numpy as np\n",
        "import requests\n",
        "#import geemap\n",
        "#from urllib.request import urlopen\n",
        "#import urllib\n",
        "\n",
        "import os\n",
        "import time\n",
        "import geojson\n",
        "import datetime\n",
        "import json\n",
        "import csv\n",
        "\n",
        "import folium\n",
        "#import geopandas as gpd"
      ]
    },
    {
      "cell_type": "code",
      "execution_count": 20,
      "id": "40c98ee8-6cb6-405c-9e8c-d44395f81bc5",
      "metadata": {
        "id": "40c98ee8-6cb6-405c-9e8c-d44395f81bc5"
      },
      "outputs": [],
      "source": [
        "# Define a method for displaying Earth Engine image tiles on a folium map.\n",
        "def add_ee_layer(self, ee_object, vis_params, name):\n",
        "    try:    \n",
        "        # display ee.Image()\n",
        "        if isinstance(ee_object, ee.image.Image):    \n",
        "            map_id_dict = ee.Image(ee_object).getMapId(vis_params)\n",
        "            folium.raster_layers.TileLayer(\n",
        "            tiles = map_id_dict['tile_fetcher'].url_format,\n",
        "            attr = 'Google Earth Engine',\n",
        "            name = name,\n",
        "            overlay = True,\n",
        "            control = True\n",
        "            ).add_to(self)\n",
        "        # display ee.ImageCollection()\n",
        "        elif isinstance(ee_object, ee.imagecollection.ImageCollection):    \n",
        "            ee_object_new = ee_object.mosaic()\n",
        "            map_id_dict = ee.Image(ee_object_new).getMapId(vis_params)\n",
        "            folium.raster_layers.TileLayer(\n",
        "            tiles = map_id_dict['tile_fetcher'].url_format,\n",
        "            attr = 'Google Earth Engine',\n",
        "            name = name,\n",
        "            overlay = True,\n",
        "            control = True\n",
        "            ).add_to(self)\n",
        "        # display ee.Geometry()\n",
        "        elif isinstance(ee_object, ee.geometry.Geometry):    \n",
        "            folium.GeoJson(\n",
        "            data = ee_object.getInfo(),\n",
        "            name = name,\n",
        "            overlay = True,\n",
        "            control = True\n",
        "        ).add_to(self)\n",
        "        # display ee.FeatureCollection()\n",
        "        elif isinstance(ee_object, ee.featurecollection.FeatureCollection):  \n",
        "            ee_object_new = ee.Image().paint(ee_object, 0, 2)\n",
        "            map_id_dict = ee.Image(ee_object_new).getMapId(vis_params)\n",
        "            folium.raster_layers.TileLayer(\n",
        "            tiles = map_id_dict['tile_fetcher'].url_format,\n",
        "            attr = 'Google Earth Engine',\n",
        "            name = name,\n",
        "            overlay = True,\n",
        "            control = True\n",
        "        ).add_to(self)\n",
        "    \n",
        "    except:\n",
        "        print(\"Could not display {}\".format(name))\n",
        "           \n",
        "def download(url, tipo, name):\n",
        "    response = requests.get(url)\n",
        "    \n",
        "    if tipo == \"raster\":\n",
        "        imgref = os.path.join(name + \".tif\")\n",
        "        with open(imgref, 'wb') as fd:\n",
        "            fd.write(response.content)\n",
        "    else:\n",
        "        vec = os.path.join(name + \".geojson\")\n",
        "        with open(vec, 'wb') as fd:\n",
        "            fd.write(response.content)\n",
        "            \n",
        "    return None\n",
        "\n",
        "def download_raster(img, name):\n",
        "    url = img.getDownloadUrl({\n",
        "        'bands': ['VV'],\n",
        "        'region': bb,\n",
        "        'scale' : 10,\n",
        "        'format': 'GEO_TIFF',\n",
        "        'maxPixels': 834607840,\n",
        "        'formatOptions': {\n",
        "            'cloudOptimized': True\n",
        "          }\n",
        "    })\n",
        "    download(url,\"raster\", name)\n",
        "    return None"
      ]
    },
    {
      "cell_type": "code",
      "execution_count": 21,
      "id": "76b79640-c347-4296-87ac-a00c6fc8fbfe",
      "metadata": {
        "id": "76b79640-c347-4296-87ac-a00c6fc8fbfe"
      },
      "outputs": [],
      "source": [
        "#start_time = time.time()\n",
        "# Trigger the authentication flow.\n",
        "\n",
        "#ee.Authenticate()\n",
        "\n",
        "\n",
        "\n",
        "# Initialize the library.\n",
        "ee.Initialize()\n",
        "maxPixels: 6362493000\n",
        "\n",
        "sDate0 = year + '-01-01'    #last 6 months 2021\n",
        "fDate = year + '-12-31'\n",
        "\n",
        "csvfilename = \"Serbia_navigable_inland_waterways_\" + year + \".csv\"\n",
        "\n",
        "image_viz_params = {\n",
        "    'bands': ['VV'],\n",
        "    'min': 0.0,\n",
        "    'max': 1.0,\n",
        "    #'gamma': [0.95, 1.1, 1]\n",
        "}"
      ]
    },
    {
      "cell_type": "code",
      "execution_count": 22,
      "id": "556eb445",
      "metadata": {
        "id": "556eb445",
        "outputId": "e0c2e38d-2850-4ed4-e7d2-36aed3b82dc6",
        "colab": {
          "base_uri": "https://localhost:8080/",
          "height": 356
        }
      },
      "outputs": [
        {
          "output_type": "error",
          "ename": "IndexError",
          "evalue": "ignored",
          "traceback": [
            "\u001b[0;31m---------------------------------------------------------------------------\u001b[0m",
            "\u001b[0;31mIndexError\u001b[0m                                Traceback (most recent call last)",
            "\u001b[0;32m<ipython-input-22-e35585b25e69>\u001b[0m in \u001b[0;36m<module>\u001b[0;34m\u001b[0m\n\u001b[1;32m     11\u001b[0m \u001b[0;34m\u001b[0m\u001b[0m\n\u001b[1;32m     12\u001b[0m         \u001b[0mcoords\u001b[0m \u001b[0;34m=\u001b[0m \u001b[0mdata1\u001b[0m\u001b[0;34m[\u001b[0m\u001b[0;34m'features'\u001b[0m\u001b[0;34m]\u001b[0m\u001b[0;34m[\u001b[0m\u001b[0mi\u001b[0m\u001b[0;34m]\u001b[0m\u001b[0;34m[\u001b[0m\u001b[0;34m'geometry'\u001b[0m\u001b[0;34m]\u001b[0m\u001b[0;34m[\u001b[0m\u001b[0;34m'coordinates'\u001b[0m\u001b[0;34m]\u001b[0m\u001b[0;34m\u001b[0m\u001b[0;34m\u001b[0m\u001b[0m\n\u001b[0;32m---> 13\u001b[0;31m         \u001b[0;34m[\u001b[0m\u001b[0mj\u001b[0m\u001b[0;34m.\u001b[0m\u001b[0mpop\u001b[0m\u001b[0;34m(\u001b[0m\u001b[0;36m2\u001b[0m\u001b[0;34m)\u001b[0m \u001b[0;32mfor\u001b[0m \u001b[0mj\u001b[0m \u001b[0;32min\u001b[0m \u001b[0mcoords\u001b[0m\u001b[0;34m[\u001b[0m\u001b[0;36m0\u001b[0m\u001b[0;34m]\u001b[0m\u001b[0;34m[\u001b[0m\u001b[0;36m0\u001b[0m\u001b[0;34m]\u001b[0m\u001b[0;34m]\u001b[0m\u001b[0;34m\u001b[0m\u001b[0;34m\u001b[0m\u001b[0m\n\u001b[0m\u001b[1;32m     14\u001b[0m         \u001b[0mid1\u001b[0m \u001b[0;34m=\u001b[0m \u001b[0mdata1\u001b[0m\u001b[0;34m[\u001b[0m\u001b[0;34m'features'\u001b[0m\u001b[0;34m]\u001b[0m\u001b[0;34m[\u001b[0m\u001b[0mi\u001b[0m\u001b[0;34m]\u001b[0m\u001b[0;34m[\u001b[0m\u001b[0;34m'properties'\u001b[0m\u001b[0;34m]\u001b[0m\u001b[0;34m[\u001b[0m\u001b[0;34m'id'\u001b[0m\u001b[0;34m]\u001b[0m\u001b[0;34m\u001b[0m\u001b[0;34m\u001b[0m\u001b[0m\n\u001b[1;32m     15\u001b[0m         \u001b[0mtype1\u001b[0m \u001b[0;34m=\u001b[0m \u001b[0mdata1\u001b[0m\u001b[0;34m[\u001b[0m\u001b[0;34m'features'\u001b[0m\u001b[0;34m]\u001b[0m\u001b[0;34m[\u001b[0m\u001b[0mi\u001b[0m\u001b[0;34m]\u001b[0m\u001b[0;34m[\u001b[0m\u001b[0;34m'properties'\u001b[0m\u001b[0;34m]\u001b[0m\u001b[0;34m[\u001b[0m\u001b[0;34m'type'\u001b[0m\u001b[0;34m]\u001b[0m\u001b[0;34m\u001b[0m\u001b[0;34m\u001b[0m\u001b[0m\n",
            "\u001b[0;32m<ipython-input-22-e35585b25e69>\u001b[0m in \u001b[0;36m<listcomp>\u001b[0;34m(.0)\u001b[0m\n\u001b[1;32m     11\u001b[0m \u001b[0;34m\u001b[0m\u001b[0m\n\u001b[1;32m     12\u001b[0m         \u001b[0mcoords\u001b[0m \u001b[0;34m=\u001b[0m \u001b[0mdata1\u001b[0m\u001b[0;34m[\u001b[0m\u001b[0;34m'features'\u001b[0m\u001b[0;34m]\u001b[0m\u001b[0;34m[\u001b[0m\u001b[0mi\u001b[0m\u001b[0;34m]\u001b[0m\u001b[0;34m[\u001b[0m\u001b[0;34m'geometry'\u001b[0m\u001b[0;34m]\u001b[0m\u001b[0;34m[\u001b[0m\u001b[0;34m'coordinates'\u001b[0m\u001b[0;34m]\u001b[0m\u001b[0;34m\u001b[0m\u001b[0;34m\u001b[0m\u001b[0m\n\u001b[0;32m---> 13\u001b[0;31m         \u001b[0;34m[\u001b[0m\u001b[0mj\u001b[0m\u001b[0;34m.\u001b[0m\u001b[0mpop\u001b[0m\u001b[0;34m(\u001b[0m\u001b[0;36m2\u001b[0m\u001b[0;34m)\u001b[0m \u001b[0;32mfor\u001b[0m \u001b[0mj\u001b[0m \u001b[0;32min\u001b[0m \u001b[0mcoords\u001b[0m\u001b[0;34m[\u001b[0m\u001b[0;36m0\u001b[0m\u001b[0;34m]\u001b[0m\u001b[0;34m[\u001b[0m\u001b[0;36m0\u001b[0m\u001b[0;34m]\u001b[0m\u001b[0;34m]\u001b[0m\u001b[0;34m\u001b[0m\u001b[0;34m\u001b[0m\u001b[0m\n\u001b[0m\u001b[1;32m     14\u001b[0m         \u001b[0mid1\u001b[0m \u001b[0;34m=\u001b[0m \u001b[0mdata1\u001b[0m\u001b[0;34m[\u001b[0m\u001b[0;34m'features'\u001b[0m\u001b[0;34m]\u001b[0m\u001b[0;34m[\u001b[0m\u001b[0mi\u001b[0m\u001b[0;34m]\u001b[0m\u001b[0;34m[\u001b[0m\u001b[0;34m'properties'\u001b[0m\u001b[0;34m]\u001b[0m\u001b[0;34m[\u001b[0m\u001b[0;34m'id'\u001b[0m\u001b[0;34m]\u001b[0m\u001b[0;34m\u001b[0m\u001b[0;34m\u001b[0m\u001b[0m\n\u001b[1;32m     15\u001b[0m         \u001b[0mtype1\u001b[0m \u001b[0;34m=\u001b[0m \u001b[0mdata1\u001b[0m\u001b[0;34m[\u001b[0m\u001b[0;34m'features'\u001b[0m\u001b[0;34m]\u001b[0m\u001b[0;34m[\u001b[0m\u001b[0mi\u001b[0m\u001b[0;34m]\u001b[0m\u001b[0;34m[\u001b[0m\u001b[0;34m'properties'\u001b[0m\u001b[0;34m]\u001b[0m\u001b[0;34m[\u001b[0m\u001b[0;34m'type'\u001b[0m\u001b[0;34m]\u001b[0m\u001b[0;34m\u001b[0m\u001b[0;34m\u001b[0m\u001b[0m\n",
            "\u001b[0;31mIndexError\u001b[0m: pop index out of range"
          ]
        }
      ],
      "source": [
        "f = open('waterway_poly6.geojson')\n",
        "data1 = json.load(f)\n",
        "\n",
        "header = ['id', 'length', 'vessels']\n",
        "with open(csvfilename, 'w', encoding='UTF8') as f1:\n",
        "    writer = csv.writer(f1)\n",
        "    writer.writerow(header)\n",
        "    \n",
        "\n",
        "    tot_len_rivers = 0\n",
        "    tot_len_canals = 0\n",
        "    for i in range(len(data1['features'])):\n",
        "        #print(data1['features'][i]['properties']['id'])\n",
        "        \n",
        "        coords = data1['features'][i]['geometry']['coordinates']\n",
        "        [j.pop(2) for j in coords[0][0]]\n",
        "        id1 = data1['features'][i]['properties']['id']\n",
        "        type1 = data1['features'][i]['properties']['type']\n",
        "        lenkm1 = data1['features'][i]['properties']['len_km']\n",
        "        aoi = ee.Geometry.Polygon(coords[0][0])\n",
        "        \n",
        "        #if id1 > 20:\n",
        "            #print(id1)\n",
        "\n",
        "        imgVV = (ee.ImageCollection('COPERNICUS/S1_GRD_FLOAT')   #S1_GRD_FLOAT\n",
        "                .filter(ee.Filter.listContains('transmitterReceiverPolarisation', 'VV')) \n",
        "                .filter(ee.Filter.eq('instrumentMode', 'IW'))\n",
        "                .select('VV')\n",
        "                .filterDate(sDate0, fDate)\n",
        "                .filterBounds(aoi)\n",
        "                #.reduce(ee.Reducer.percentile([50]))\n",
        "                )\n",
        "\n",
        "        imgVV_fixed = imgVV.max().clip(aoi).toUint8()\n",
        "        im = imgVV_fixed\n",
        "\n",
        "        center = list(aoi.centroid().getInfo().values())[1][1], list(aoi.centroid().getInfo().values())[1][0]\n",
        "\n",
        "        ####### map\n",
        "        #map1 = folium.Map(location=center, zoom_start=10)\n",
        "        #folium.Map.add_ee_layer = add_ee_layer\n",
        "        #map1.add_ee_layer(im, image_viz_params, 'false color composite')\n",
        "        #display(map1)\n",
        "\n",
        "        classes = im.reduceToVectors(\n",
        "            **{\n",
        "            'reducer': ee.Reducer.countEvery(),\n",
        "            'geometry': aoi.getInfo(),\n",
        "            'scale': 10,\n",
        "            'maxPixels': 100000000\n",
        "        })\n",
        "\n",
        "        vessels = (ee.FeatureCollection(classes).filter(ee.Filter.gt('count', 15)).filter(ee.Filter.lt('count', 10000)))\n",
        "        vessels_centroids = vessels.map(lambda f: f.centroid(10))\n",
        "\n",
        "        #vessels_centroids1 = vessels_centroids.intersection(aoi)\n",
        "        vessels_centroids1 = vessels_centroids.filter(ee.Filter.bounds(aoi))\n",
        "        n_vessels = vessels_centroids1.size().getInfo()\n",
        "\n",
        "\n",
        "        print(\"there are\", n_vessels, \"vessels\", \"in the\", type1, \"with id\", id1, \"and lenght\", lenkm1, \"km\", \"n_img\", imgVV.size().getInfo())\n",
        "        writer.writerow([id1, lenkm1, n_vessels])\n",
        "        \n",
        "        if n_vessels > 0:\n",
        "            #downloadUrl1 = vessels_centroids1.getDownloadURL(**{'filetype': 'GEOJSON'})\n",
        "            #download(downloadUrl1, \"vessels\", \"vessels_id_\" + str(id1) + \"_\" + year)\n",
        "            if type1 == \"river\":\n",
        "                tot_len_rivers += lenkm1\n",
        "            else:\n",
        "                tot_len_canals += lenkm1\n",
        "\n",
        "print()\n",
        "print(tot_len_rivers, \"kms of Navigable rivers and lakes\")\n",
        "print(tot_len_canals, \"kms of Navigable canals\")\n",
        "print(\"Total of\", tot_len_rivers + tot_len_canals, \"kms of Inland waterways\")"
      ]
    }
  ],
  "metadata": {
    "kernelspec": {
      "display_name": "Python 3 (ipykernel)",
      "language": "python",
      "name": "python3"
    },
    "language_info": {
      "codemirror_mode": {
        "name": "ipython",
        "version": 3
      },
      "file_extension": ".py",
      "mimetype": "text/x-python",
      "name": "python",
      "nbconvert_exporter": "python",
      "pygments_lexer": "ipython3",
      "version": "3.7.12"
    },
    "colab": {
      "provenance": [],
      "collapsed_sections": [],
      "include_colab_link": true
    }
  },
  "nbformat": 4,
  "nbformat_minor": 5
}