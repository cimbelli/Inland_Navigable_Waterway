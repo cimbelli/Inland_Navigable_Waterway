{
  "cells": [
    {
      "cell_type": "markdown",
      "metadata": {
        "id": "view-in-github",
        "colab_type": "text"
      },
      "source": [
        "<a href=\"https://colab.research.google.com/github/cimbelli/Inland_Navigable_Waterway/blob/main/s1_danube_1_3.ipynb\" target=\"_parent\"><img src=\"https://colab.research.google.com/assets/colab-badge.svg\" alt=\"Open In Colab\"/></a>"
      ]
    },
    {
      "cell_type": "code",
      "source": [
        "!pip install geojson"
      ],
      "metadata": {
        "id": "A4ni3eDfHGQZ",
        "outputId": "c603d509-4f58-48ca-f15c-92fc890d098c",
        "colab": {
          "base_uri": "https://localhost:8080/"
        }
      },
      "id": "A4ni3eDfHGQZ",
      "execution_count": 12,
      "outputs": [
        {
          "output_type": "stream",
          "name": "stdout",
          "text": [
            "Looking in indexes: https://pypi.org/simple, https://us-python.pkg.dev/colab-wheels/public/simple/\n",
            "Requirement already satisfied: geojson in /usr/local/lib/python3.7/dist-packages (2.5.0)\n"
          ]
        }
      ]
    },
    {
      "cell_type": "code",
      "source": [
        "!pip install earthengine-api\n"
      ],
      "metadata": {
        "id": "DawZafQ8JE2R",
        "outputId": "f7fdf3e6-2cf7-4699-c9fa-d2670e4cdb1b",
        "colab": {
          "base_uri": "https://localhost:8080/"
        }
      },
      "id": "DawZafQ8JE2R",
      "execution_count": 13,
      "outputs": [
        {
          "output_type": "stream",
          "name": "stdout",
          "text": [
            "Looking in indexes: https://pypi.org/simple, https://us-python.pkg.dev/colab-wheels/public/simple/\n",
            "Requirement already satisfied: earthengine-api in /usr/local/lib/python3.7/dist-packages (0.1.323)\n",
            "Requirement already satisfied: google-auth-httplib2>=0.0.3 in /usr/local/lib/python3.7/dist-packages (from earthengine-api) (0.0.4)\n",
            "Requirement already satisfied: future in /usr/local/lib/python3.7/dist-packages (from earthengine-api) (0.16.0)\n",
            "Requirement already satisfied: google-api-python-client<2,>=1.12.1 in /usr/local/lib/python3.7/dist-packages (from earthengine-api) (1.12.11)\n",
            "Requirement already satisfied: httplib2shim in /usr/local/lib/python3.7/dist-packages (from earthengine-api) (0.0.3)\n",
            "Requirement already satisfied: google-auth>=1.4.1 in /usr/local/lib/python3.7/dist-packages (from earthengine-api) (1.35.0)\n",
            "Requirement already satisfied: google-cloud-storage in /usr/local/lib/python3.7/dist-packages (from earthengine-api) (1.18.1)\n",
            "Requirement already satisfied: httplib2<1dev,>=0.9.2 in /usr/local/lib/python3.7/dist-packages (from earthengine-api) (0.17.4)\n",
            "Requirement already satisfied: six in /usr/local/lib/python3.7/dist-packages (from earthengine-api) (1.15.0)\n",
            "Requirement already satisfied: google-api-core<3dev,>=1.21.0 in /usr/local/lib/python3.7/dist-packages (from google-api-python-client<2,>=1.12.1->earthengine-api) (1.31.6)\n",
            "Requirement already satisfied: uritemplate<4dev,>=3.0.0 in /usr/local/lib/python3.7/dist-packages (from google-api-python-client<2,>=1.12.1->earthengine-api) (3.0.1)\n",
            "Requirement already satisfied: pytz in /usr/local/lib/python3.7/dist-packages (from google-api-core<3dev,>=1.21.0->google-api-python-client<2,>=1.12.1->earthengine-api) (2022.2.1)\n",
            "Requirement already satisfied: protobuf<4.0.0dev,>=3.12.0 in /usr/local/lib/python3.7/dist-packages (from google-api-core<3dev,>=1.21.0->google-api-python-client<2,>=1.12.1->earthengine-api) (3.17.3)\n",
            "Requirement already satisfied: setuptools>=40.3.0 in /usr/local/lib/python3.7/dist-packages (from google-api-core<3dev,>=1.21.0->google-api-python-client<2,>=1.12.1->earthengine-api) (57.4.0)\n",
            "Requirement already satisfied: requests<3.0.0dev,>=2.18.0 in /usr/local/lib/python3.7/dist-packages (from google-api-core<3dev,>=1.21.0->google-api-python-client<2,>=1.12.1->earthengine-api) (2.23.0)\n",
            "Requirement already satisfied: packaging>=14.3 in /usr/local/lib/python3.7/dist-packages (from google-api-core<3dev,>=1.21.0->google-api-python-client<2,>=1.12.1->earthengine-api) (21.3)\n",
            "Requirement already satisfied: googleapis-common-protos<2.0dev,>=1.6.0 in /usr/local/lib/python3.7/dist-packages (from google-api-core<3dev,>=1.21.0->google-api-python-client<2,>=1.12.1->earthengine-api) (1.56.4)\n",
            "Requirement already satisfied: rsa<5,>=3.1.4 in /usr/local/lib/python3.7/dist-packages (from google-auth>=1.4.1->earthengine-api) (4.9)\n",
            "Requirement already satisfied: cachetools<5.0,>=2.0.0 in /usr/local/lib/python3.7/dist-packages (from google-auth>=1.4.1->earthengine-api) (4.2.4)\n",
            "Requirement already satisfied: pyasn1-modules>=0.2.1 in /usr/local/lib/python3.7/dist-packages (from google-auth>=1.4.1->earthengine-api) (0.2.8)\n",
            "Requirement already satisfied: pyparsing!=3.0.5,>=2.0.2 in /usr/local/lib/python3.7/dist-packages (from packaging>=14.3->google-api-core<3dev,>=1.21.0->google-api-python-client<2,>=1.12.1->earthengine-api) (3.0.9)\n",
            "Requirement already satisfied: pyasn1<0.5.0,>=0.4.6 in /usr/local/lib/python3.7/dist-packages (from pyasn1-modules>=0.2.1->google-auth>=1.4.1->earthengine-api) (0.4.8)\n",
            "Requirement already satisfied: certifi>=2017.4.17 in /usr/local/lib/python3.7/dist-packages (from requests<3.0.0dev,>=2.18.0->google-api-core<3dev,>=1.21.0->google-api-python-client<2,>=1.12.1->earthengine-api) (2022.6.15)\n",
            "Requirement already satisfied: idna<3,>=2.5 in /usr/local/lib/python3.7/dist-packages (from requests<3.0.0dev,>=2.18.0->google-api-core<3dev,>=1.21.0->google-api-python-client<2,>=1.12.1->earthengine-api) (2.10)\n",
            "Requirement already satisfied: urllib3!=1.25.0,!=1.25.1,<1.26,>=1.21.1 in /usr/local/lib/python3.7/dist-packages (from requests<3.0.0dev,>=2.18.0->google-api-core<3dev,>=1.21.0->google-api-python-client<2,>=1.12.1->earthengine-api) (1.24.3)\n",
            "Requirement already satisfied: chardet<4,>=3.0.2 in /usr/local/lib/python3.7/dist-packages (from requests<3.0.0dev,>=2.18.0->google-api-core<3dev,>=1.21.0->google-api-python-client<2,>=1.12.1->earthengine-api) (3.0.4)\n",
            "Requirement already satisfied: google-cloud-core<2.0dev,>=1.0.0 in /usr/local/lib/python3.7/dist-packages (from google-cloud-storage->earthengine-api) (1.0.3)\n",
            "Requirement already satisfied: google-resumable-media<0.5.0dev,>=0.3.1 in /usr/local/lib/python3.7/dist-packages (from google-cloud-storage->earthengine-api) (0.4.1)\n"
          ]
        }
      ]
    },
    {
      "cell_type": "code",
      "execution_count": 14,
      "id": "42316a79-7782-4b60-9c86-22aa34aa3d7b",
      "metadata": {
        "id": "42316a79-7782-4b60-9c86-22aa34aa3d7b"
      },
      "outputs": [],
      "source": [
        "import ee\n",
        "#import time\n",
        "import matplotlib\n",
        "import numpy as np\n",
        "import requests\n",
        "#import geemap\n",
        "\n",
        "import os\n",
        "import time\n",
        "import geojson\n",
        "import datetime\n",
        "import json\n",
        "\n",
        "import folium"
      ]
    },
    {
      "cell_type": "code",
      "execution_count": 15,
      "id": "40c98ee8-6cb6-405c-9e8c-d44395f81bc5",
      "metadata": {
        "id": "40c98ee8-6cb6-405c-9e8c-d44395f81bc5"
      },
      "outputs": [],
      "source": [
        "# Define a method for displaying Earth Engine image tiles on a folium map.\n",
        "def add_ee_layer(self, ee_object, vis_params, name):\n",
        "    try:    \n",
        "        # display ee.Image()\n",
        "        if isinstance(ee_object, ee.image.Image):    \n",
        "            map_id_dict = ee.Image(ee_object).getMapId(vis_params)\n",
        "            folium.raster_layers.TileLayer(\n",
        "            tiles = map_id_dict['tile_fetcher'].url_format,\n",
        "            attr = 'Google Earth Engine',\n",
        "            name = name,\n",
        "            overlay = True,\n",
        "            control = True\n",
        "            ).add_to(self)\n",
        "        # display ee.ImageCollection()\n",
        "        elif isinstance(ee_object, ee.imagecollection.ImageCollection):    \n",
        "            ee_object_new = ee_object.mosaic()\n",
        "            map_id_dict = ee.Image(ee_object_new).getMapId(vis_params)\n",
        "            folium.raster_layers.TileLayer(\n",
        "            tiles = map_id_dict['tile_fetcher'].url_format,\n",
        "            attr = 'Google Earth Engine',\n",
        "            name = name,\n",
        "            overlay = True,\n",
        "            control = True\n",
        "            ).add_to(self)\n",
        "        # display ee.Geometry()\n",
        "        elif isinstance(ee_object, ee.geometry.Geometry):    \n",
        "            folium.GeoJson(\n",
        "            data = ee_object.getInfo(),\n",
        "            name = name,\n",
        "            overlay = True,\n",
        "            control = True\n",
        "        ).add_to(self)\n",
        "        # display ee.FeatureCollection()\n",
        "        elif isinstance(ee_object, ee.featurecollection.FeatureCollection):  \n",
        "            ee_object_new = ee.Image().paint(ee_object, 0, 2)\n",
        "            map_id_dict = ee.Image(ee_object_new).getMapId(vis_params)\n",
        "            folium.raster_layers.TileLayer(\n",
        "            tiles = map_id_dict['tile_fetcher'].url_format,\n",
        "            attr = 'Google Earth Engine',\n",
        "            name = name,\n",
        "            overlay = True,\n",
        "            control = True\n",
        "        ).add_to(self)\n",
        "    \n",
        "    except:\n",
        "        print(\"Could not display {}\".format(name))\n",
        "           \n",
        "def download(url, tipo, name):\n",
        "    response = requests.get(url)\n",
        "    \n",
        "    if tipo == \"raster\":\n",
        "        imgref = os.path.join(name + \".tif\")\n",
        "        with open(imgref, 'wb') as fd:\n",
        "            fd.write(response.content)\n",
        "    else:\n",
        "        vec = os.path.join(name + \".geojson\")\n",
        "        with open(vec, 'wb') as fd:\n",
        "            fd.write(response.content)\n",
        "            \n",
        "    return None\n",
        "\n",
        "def download_raster(img, name):\n",
        "    url = img.getDownloadUrl({\n",
        "        'bands': ['VV'],\n",
        "        'region': bb,\n",
        "        'scale' : 10,\n",
        "        'format': 'GEO_TIFF',\n",
        "        'maxPixels': 834607840,\n",
        "        'formatOptions': {\n",
        "            'cloudOptimized': True\n",
        "          }\n",
        "    })\n",
        "    download(url,\"raster\", name)\n",
        "    return None"
      ]
    },
    {
      "cell_type": "code",
      "execution_count": 16,
      "id": "76b79640-c347-4296-87ac-a00c6fc8fbfe",
      "metadata": {
        "id": "76b79640-c347-4296-87ac-a00c6fc8fbfe",
        "outputId": "d0bd0836-0b7a-4d74-8fbf-2804507a80bc",
        "colab": {
          "base_uri": "https://localhost:8080/"
        }
      },
      "outputs": [
        {
          "output_type": "stream",
          "name": "stdout",
          "text": [
            "To authorize access needed by Earth Engine, open the following URL in a web browser and follow the instructions. If the web browser does not start automatically, please manually browse the URL below.\n",
            "\n",
            "    https://code.earthengine.google.com/client-auth?scopes=https%3A//www.googleapis.com/auth/earthengine%20https%3A//www.googleapis.com/auth/devstorage.full_control&request_id=M41USS9xkLUKSCgbjlaRRKZIuYv3ZB8ytT9u7hzrvdw&tc=5AkbHBbgDsqmBOb8xfe6a8q3PWj2oqkQY_WXns3ifAU&cc=vqI-TI598cQstLmjaoMjPXfvlATOcBp5WvVW19Pcmp4\n",
            "\n",
            "The authorization workflow will generate a code, which you should paste in the box below.\n",
            "Enter verification code: 4/1ARtbsJqeX4DW7V0eCr0rc2qmIy1P3Oy4trtDCy6M1sfr5dObWDcO_dIkNZA\n",
            "\n",
            "Successfully saved authorization token.\n"
          ]
        }
      ],
      "source": [
        "#start_time = time.time()\n",
        "# Trigger the authentication flow.\n",
        "ee.Authenticate()\n",
        " \n",
        "# Initialize the library.\n",
        "ee.Initialize()\n",
        "maxPixels: 6362493000\n",
        "\n",
        "sDate0 = '2021-01-01'    #last 6 months 2021\n",
        "fDate = '2021-12-31'\n",
        "\n",
        "image_viz_params = {\n",
        "    'bands': ['VV'],\n",
        "    'min': 0.0,\n",
        "    'max': 1.0,\n",
        "    #'gamma': [0.95, 1.1, 1]\n",
        "}"
      ]
    },
    {
      "cell_type": "code",
      "execution_count": 17,
      "id": "556eb445",
      "metadata": {
        "id": "556eb445",
        "outputId": "6c743cef-acc2-45fc-c39b-14a0a2f2a7e1",
        "colab": {
          "base_uri": "https://localhost:8080/",
          "height": 235
        }
      },
      "outputs": [
        {
          "output_type": "error",
          "ename": "FileNotFoundError",
          "evalue": "ignored",
          "traceback": [
            "\u001b[0;31m---------------------------------------------------------------------------\u001b[0m",
            "\u001b[0;31mFileNotFoundError\u001b[0m                         Traceback (most recent call last)",
            "\u001b[0;32m<ipython-input-17-157ce8ec6d9f>\u001b[0m in \u001b[0;36m<module>\u001b[0;34m\u001b[0m\n\u001b[0;32m----> 1\u001b[0;31m \u001b[0mf\u001b[0m \u001b[0;34m=\u001b[0m \u001b[0mopen\u001b[0m\u001b[0;34m(\u001b[0m\u001b[0;34m'waterway_poly4.geojson'\u001b[0m\u001b[0;34m)\u001b[0m\u001b[0;34m\u001b[0m\u001b[0;34m\u001b[0m\u001b[0m\n\u001b[0m\u001b[1;32m      2\u001b[0m \u001b[0mdata1\u001b[0m \u001b[0;34m=\u001b[0m \u001b[0mjson\u001b[0m\u001b[0;34m.\u001b[0m\u001b[0mload\u001b[0m\u001b[0;34m(\u001b[0m\u001b[0mf\u001b[0m\u001b[0;34m)\u001b[0m\u001b[0;34m\u001b[0m\u001b[0;34m\u001b[0m\u001b[0m\n\u001b[1;32m      3\u001b[0m \u001b[0mtot_len_rivers\u001b[0m \u001b[0;34m=\u001b[0m \u001b[0;36m0\u001b[0m\u001b[0;34m\u001b[0m\u001b[0;34m\u001b[0m\u001b[0m\n\u001b[1;32m      4\u001b[0m \u001b[0mtot_len_canals\u001b[0m \u001b[0;34m=\u001b[0m \u001b[0;36m0\u001b[0m\u001b[0;34m\u001b[0m\u001b[0;34m\u001b[0m\u001b[0m\n\u001b[1;32m      5\u001b[0m \u001b[0;32mfor\u001b[0m \u001b[0mi\u001b[0m \u001b[0;32min\u001b[0m \u001b[0mrange\u001b[0m\u001b[0;34m(\u001b[0m\u001b[0mlen\u001b[0m\u001b[0;34m(\u001b[0m\u001b[0mdata1\u001b[0m\u001b[0;34m[\u001b[0m\u001b[0;34m'features'\u001b[0m\u001b[0;34m]\u001b[0m\u001b[0;34m)\u001b[0m\u001b[0;34m)\u001b[0m\u001b[0;34m:\u001b[0m\u001b[0;34m\u001b[0m\u001b[0;34m\u001b[0m\u001b[0m\n",
            "\u001b[0;31mFileNotFoundError\u001b[0m: [Errno 2] No such file or directory: 'waterway_poly4.geojson'"
          ]
        }
      ],
      "source": [
        "f = open('waterway_poly4.geojson')\n",
        "data1 = json.load(f)\n",
        "tot_len_rivers = 0\n",
        "tot_len_canals = 0\n",
        "for i in range(len(data1['features'])):\n",
        "    #print(data1['features'][i]['properties']['id'])\n",
        "    \n",
        "    coords = data1['features'][i]['geometry']['coordinates']\n",
        "    [j.pop(2) for j in coords[0][0]]\n",
        "    id1 = data1['features'][i]['properties']['id']\n",
        "    type1 = data1['features'][i]['properties']['type']\n",
        "    lenkm1 = data1['features'][i]['properties']['len_km']\n",
        "    aoi = ee.Geometry.Polygon(coords[0][0])\n",
        "    \n",
        "    #if id1 > 20:\n",
        "        #print(id1)\n",
        "\n",
        "    imgVV = (ee.ImageCollection('COPERNICUS/S1_GRD_FLOAT')   #S1_GRD_FLOAT\n",
        "            .filter(ee.Filter.listContains('transmitterReceiverPolarisation', 'VV')) \n",
        "            .filter(ee.Filter.eq('instrumentMode', 'IW'))\n",
        "            .select('VV')\n",
        "            .filterDate(sDate0, fDate)\n",
        "            .filterBounds(aoi)\n",
        "            #.reduce(ee.Reducer.percentile([50]))\n",
        "            )\n",
        "\n",
        "    #imgVV_fixed = imgVV.median().clip(aoi).toUint8()#.focalMax(6).focalMin(6).gte(1)\n",
        "    #imgVV_all = imgVV.first().clip(aoi).toUint8()#.focalMax(6).focalMin(6).gte(1)\n",
        "    #im = imgVV_all.subtract(imgVV_fixed)\n",
        "\n",
        "    imgVV_fixed = imgVV.max().clip(aoi).toUint8()\n",
        "    im = imgVV_fixed\n",
        "\n",
        "    center = list(aoi.centroid().getInfo().values())[1][1], list(aoi.centroid().getInfo().values())[1][0]\n",
        "\n",
        "    ####### map\n",
        "    #map1 = folium.Map(location=center, zoom_start=10)\n",
        "    #folium.Map.add_ee_layer = add_ee_layer\n",
        "    #map1.add_ee_layer(im, image_viz_params, 'false color composite')\n",
        "    #display(map1)\n",
        "\n",
        "    classes = im.reduceToVectors(\n",
        "        **{\n",
        "        'reducer': ee.Reducer.countEvery(),\n",
        "        'geometry': aoi.getInfo(),\n",
        "        'scale': 10,\n",
        "        'maxPixels': 100000000\n",
        "    })\n",
        "\n",
        "    vessels = (ee.FeatureCollection(classes).filter(ee.Filter.gt('count', 15)).filter(ee.Filter.lt('count', 10000)))\n",
        "    vessels_centroids = vessels.map(lambda f: f.centroid(10))\n",
        "\n",
        "    #vessels_centroids1 = vessels_centroids.intersection(aoi)\n",
        "    vessels_centroids1 = vessels_centroids.filter(ee.Filter.bounds(aoi))\n",
        "    n_vessels = vessels_centroids1.size().getInfo()\n",
        "\n",
        "\n",
        "    print(\"there are\", n_vessels, \"vessels\", \"in the\", type1, \"with id\", id1, \"and lenght\", lenkm1, \"km\")\n",
        "    \n",
        "    if n_vessels >0:\n",
        "        downloadUrl1 = vessels_centroids1.getDownloadURL(**{'filetype': 'GEOJSON'})\n",
        "        download(downloadUrl1, \"waterpoly_\", \"waterpoly_\"+ str(id1))\n",
        "        if type1 == \"river\":\n",
        "            tot_len_rivers += lenkm1\n",
        "        else:\n",
        "            tot_len_canals += lenkm1\n",
        "\n",
        "print()\n",
        "print(tot_len_rivers, \"kms of Navigable rivers and lakes\")\n",
        "print(tot_len_canals, \"kms of Navigable canals\")\n",
        "print(\"Total of\", tot_len_rivers + tot_len_canals, \"kms of Inland waterways\")"
      ]
    },
    {
      "cell_type": "code",
      "execution_count": null,
      "id": "ed9440dd-f870-4a51-8ff2-17aa318b45e1",
      "metadata": {
        "id": "ed9440dd-f870-4a51-8ff2-17aa318b45e1"
      },
      "outputs": [],
      "source": []
    }
  ],
  "metadata": {
    "kernelspec": {
      "display_name": "Python 3 (ipykernel)",
      "language": "python",
      "name": "python3"
    },
    "language_info": {
      "codemirror_mode": {
        "name": "ipython",
        "version": 3
      },
      "file_extension": ".py",
      "mimetype": "text/x-python",
      "name": "python",
      "nbconvert_exporter": "python",
      "pygments_lexer": "ipython3",
      "version": "3.7.12"
    },
    "colab": {
      "provenance": [],
      "include_colab_link": true
    }
  },
  "nbformat": 4,
  "nbformat_minor": 5
}