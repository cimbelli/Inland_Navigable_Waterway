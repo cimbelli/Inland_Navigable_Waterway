{
  "cells": [
    {
      "cell_type": "markdown",
      "metadata": {
        "id": "view-in-github",
        "colab_type": "text"
      },
      "source": [
        "<a href=\"https://colab.research.google.com/github/cimbelli/Inland_Navigable_Waterway/blob/main/s1_danube_1_6_month.ipynb\" target=\"_parent\"><img src=\"https://colab.research.google.com/assets/colab-badge.svg\" alt=\"Open In Colab\"/></a>"
      ]
    },
    {
      "cell_type": "markdown",
      "source": [
        "### Derive the total km of Serbian navigable waterways of rivers and canals in year ..."
      ],
      "metadata": {
        "id": "kZqg4qmOguK9"
      },
      "id": "kZqg4qmOguK9"
    },
    {
      "cell_type": "code",
      "source": [
        "year = '2021'"
      ],
      "metadata": {
        "id": "pX7XqUebJuGD"
      },
      "id": "pX7XqUebJuGD",
      "execution_count": 1,
      "outputs": []
    },
    {
      "cell_type": "code",
      "source": [
        "### comment below after the first run\n",
        "\n",
        "!pip install geojson\n",
        "!pip install earthengine-api\n",
        "\n",
        "url = 'https://raw.githubusercontent.com/cimbelli/Inland_Navigable_Waterway/main/waterway_poly6.geojson'\n",
        "!wget $url\n"
      ],
      "metadata": {
        "id": "A4ni3eDfHGQZ",
        "colab": {
          "base_uri": "https://localhost:8080/"
        },
        "outputId": "566b8cfe-a7ef-40b6-b318-b8cd4ad84b6e"
      },
      "id": "A4ni3eDfHGQZ",
      "execution_count": 2,
      "outputs": [
        {
          "output_type": "stream",
          "name": "stdout",
          "text": [
            "Looking in indexes: https://pypi.org/simple, https://us-python.pkg.dev/colab-wheels/public/simple/\n",
            "Collecting geojson\n",
            "  Downloading geojson-2.5.0-py2.py3-none-any.whl (14 kB)\n",
            "Installing collected packages: geojson\n",
            "Successfully installed geojson-2.5.0\n",
            "Looking in indexes: https://pypi.org/simple, https://us-python.pkg.dev/colab-wheels/public/simple/\n",
            "Requirement already satisfied: earthengine-api in /usr/local/lib/python3.7/dist-packages (0.1.323)\n",
            "Requirement already satisfied: httplib2<1dev,>=0.9.2 in /usr/local/lib/python3.7/dist-packages (from earthengine-api) (0.17.4)\n",
            "Requirement already satisfied: google-api-python-client<2,>=1.12.1 in /usr/local/lib/python3.7/dist-packages (from earthengine-api) (1.12.11)\n",
            "Requirement already satisfied: google-auth>=1.4.1 in /usr/local/lib/python3.7/dist-packages (from earthengine-api) (1.35.0)\n",
            "Requirement already satisfied: google-auth-httplib2>=0.0.3 in /usr/local/lib/python3.7/dist-packages (from earthengine-api) (0.0.4)\n",
            "Requirement already satisfied: google-cloud-storage in /usr/local/lib/python3.7/dist-packages (from earthengine-api) (1.18.1)\n",
            "Requirement already satisfied: httplib2shim in /usr/local/lib/python3.7/dist-packages (from earthengine-api) (0.0.3)\n",
            "Requirement already satisfied: future in /usr/local/lib/python3.7/dist-packages (from earthengine-api) (0.16.0)\n",
            "Requirement already satisfied: six in /usr/local/lib/python3.7/dist-packages (from earthengine-api) (1.15.0)\n",
            "Requirement already satisfied: uritemplate<4dev,>=3.0.0 in /usr/local/lib/python3.7/dist-packages (from google-api-python-client<2,>=1.12.1->earthengine-api) (3.0.1)\n",
            "Requirement already satisfied: google-api-core<3dev,>=1.21.0 in /usr/local/lib/python3.7/dist-packages (from google-api-python-client<2,>=1.12.1->earthengine-api) (1.31.6)\n",
            "Requirement already satisfied: requests<3.0.0dev,>=2.18.0 in /usr/local/lib/python3.7/dist-packages (from google-api-core<3dev,>=1.21.0->google-api-python-client<2,>=1.12.1->earthengine-api) (2.23.0)\n",
            "Requirement already satisfied: setuptools>=40.3.0 in /usr/local/lib/python3.7/dist-packages (from google-api-core<3dev,>=1.21.0->google-api-python-client<2,>=1.12.1->earthengine-api) (57.4.0)\n",
            "Requirement already satisfied: packaging>=14.3 in /usr/local/lib/python3.7/dist-packages (from google-api-core<3dev,>=1.21.0->google-api-python-client<2,>=1.12.1->earthengine-api) (21.3)\n",
            "Requirement already satisfied: pytz in /usr/local/lib/python3.7/dist-packages (from google-api-core<3dev,>=1.21.0->google-api-python-client<2,>=1.12.1->earthengine-api) (2022.2.1)\n",
            "Requirement already satisfied: googleapis-common-protos<2.0dev,>=1.6.0 in /usr/local/lib/python3.7/dist-packages (from google-api-core<3dev,>=1.21.0->google-api-python-client<2,>=1.12.1->earthengine-api) (1.56.4)\n",
            "Requirement already satisfied: protobuf<4.0.0dev,>=3.12.0 in /usr/local/lib/python3.7/dist-packages (from google-api-core<3dev,>=1.21.0->google-api-python-client<2,>=1.12.1->earthengine-api) (3.17.3)\n",
            "Requirement already satisfied: cachetools<5.0,>=2.0.0 in /usr/local/lib/python3.7/dist-packages (from google-auth>=1.4.1->earthengine-api) (4.2.4)\n",
            "Requirement already satisfied: pyasn1-modules>=0.2.1 in /usr/local/lib/python3.7/dist-packages (from google-auth>=1.4.1->earthengine-api) (0.2.8)\n",
            "Requirement already satisfied: rsa<5,>=3.1.4 in /usr/local/lib/python3.7/dist-packages (from google-auth>=1.4.1->earthengine-api) (4.9)\n",
            "Requirement already satisfied: pyparsing!=3.0.5,>=2.0.2 in /usr/local/lib/python3.7/dist-packages (from packaging>=14.3->google-api-core<3dev,>=1.21.0->google-api-python-client<2,>=1.12.1->earthengine-api) (3.0.9)\n",
            "Requirement already satisfied: pyasn1<0.5.0,>=0.4.6 in /usr/local/lib/python3.7/dist-packages (from pyasn1-modules>=0.2.1->google-auth>=1.4.1->earthengine-api) (0.4.8)\n",
            "Requirement already satisfied: chardet<4,>=3.0.2 in /usr/local/lib/python3.7/dist-packages (from requests<3.0.0dev,>=2.18.0->google-api-core<3dev,>=1.21.0->google-api-python-client<2,>=1.12.1->earthengine-api) (3.0.4)\n",
            "Requirement already satisfied: idna<3,>=2.5 in /usr/local/lib/python3.7/dist-packages (from requests<3.0.0dev,>=2.18.0->google-api-core<3dev,>=1.21.0->google-api-python-client<2,>=1.12.1->earthengine-api) (2.10)\n",
            "Requirement already satisfied: certifi>=2017.4.17 in /usr/local/lib/python3.7/dist-packages (from requests<3.0.0dev,>=2.18.0->google-api-core<3dev,>=1.21.0->google-api-python-client<2,>=1.12.1->earthengine-api) (2022.6.15)\n",
            "Requirement already satisfied: urllib3!=1.25.0,!=1.25.1,<1.26,>=1.21.1 in /usr/local/lib/python3.7/dist-packages (from requests<3.0.0dev,>=2.18.0->google-api-core<3dev,>=1.21.0->google-api-python-client<2,>=1.12.1->earthengine-api) (1.24.3)\n",
            "Requirement already satisfied: google-resumable-media<0.5.0dev,>=0.3.1 in /usr/local/lib/python3.7/dist-packages (from google-cloud-storage->earthengine-api) (0.4.1)\n",
            "Requirement already satisfied: google-cloud-core<2.0dev,>=1.0.0 in /usr/local/lib/python3.7/dist-packages (from google-cloud-storage->earthengine-api) (1.0.3)\n",
            "--2022-09-27 22:13:23--  https://raw.githubusercontent.com/cimbelli/Inland_Navigable_Waterway/main/waterway_poly6.geojson\n",
            "Resolving raw.githubusercontent.com (raw.githubusercontent.com)... 185.199.108.133, 185.199.109.133, 185.199.110.133, ...\n",
            "Connecting to raw.githubusercontent.com (raw.githubusercontent.com)|185.199.108.133|:443... connected.\n",
            "HTTP request sent, awaiting response... 200 OK\n",
            "Length: 5680561 (5.4M) [text/plain]\n",
            "Saving to: ‘waterway_poly6.geojson’\n",
            "\n",
            "waterway_poly6.geoj 100%[===================>]   5.42M  --.-KB/s    in 0.1s    \n",
            "\n",
            "2022-09-27 22:13:24 (42.2 MB/s) - ‘waterway_poly6.geojson’ saved [5680561/5680561]\n",
            "\n"
          ]
        }
      ]
    },
    {
      "cell_type": "code",
      "execution_count": 3,
      "id": "42316a79-7782-4b60-9c86-22aa34aa3d7b",
      "metadata": {
        "id": "42316a79-7782-4b60-9c86-22aa34aa3d7b"
      },
      "outputs": [],
      "source": [
        "import ee\n",
        "#import time\n",
        "import matplotlib\n",
        "import numpy as np\n",
        "import requests\n",
        "#import geemap\n",
        "#from urllib.request import urlopen\n",
        "#import urllib\n",
        "\n",
        "import os\n",
        "import time\n",
        "import geojson\n",
        "import datetime, calendar\n",
        "import json\n",
        "import csv\n",
        "\n",
        "import folium\n",
        "#import geopandas as gpd"
      ]
    },
    {
      "cell_type": "code",
      "execution_count": 7,
      "id": "40c98ee8-6cb6-405c-9e8c-d44395f81bc5",
      "metadata": {
        "id": "40c98ee8-6cb6-405c-9e8c-d44395f81bc5"
      },
      "outputs": [],
      "source": [
        "# Define a method for displaying Earth Engine image tiles on a folium map.\n",
        "def add_ee_layer(self, ee_object, vis_params, name):\n",
        "    try:    \n",
        "        # display ee.Image()\n",
        "        if isinstance(ee_object, ee.image.Image):    \n",
        "            map_id_dict = ee.Image(ee_object).getMapId(vis_params)\n",
        "            folium.raster_layers.TileLayer(\n",
        "            tiles = map_id_dict['tile_fetcher'].url_format,\n",
        "            attr = 'Google Earth Engine',\n",
        "            name = name,\n",
        "            overlay = True,\n",
        "            control = True\n",
        "            ).add_to(self)\n",
        "        # display ee.ImageCollection()\n",
        "        elif isinstance(ee_object, ee.imagecollection.ImageCollection):    \n",
        "            ee_object_new = ee_object.mosaic()\n",
        "            map_id_dict = ee.Image(ee_object_new).getMapId(vis_params)\n",
        "            folium.raster_layers.TileLayer(\n",
        "            tiles = map_id_dict['tile_fetcher'].url_format,\n",
        "            attr = 'Google Earth Engine',\n",
        "            name = name,\n",
        "            overlay = True,\n",
        "            control = True\n",
        "            ).add_to(self)\n",
        "        # display ee.Geometry()\n",
        "        elif isinstance(ee_object, ee.geometry.Geometry):    \n",
        "            folium.GeoJson(\n",
        "            data = ee_object.getInfo(),\n",
        "            name = name,\n",
        "            overlay = True,\n",
        "            control = True\n",
        "        ).add_to(self)\n",
        "        # display ee.FeatureCollection()\n",
        "        elif isinstance(ee_object, ee.featurecollection.FeatureCollection):  \n",
        "            ee_object_new = ee.Image().paint(ee_object, 0, 2)\n",
        "            map_id_dict = ee.Image(ee_object_new).getMapId(vis_params)\n",
        "            folium.raster_layers.TileLayer(\n",
        "            tiles = map_id_dict['tile_fetcher'].url_format,\n",
        "            attr = 'Google Earth Engine',\n",
        "            name = name,\n",
        "            overlay = True,\n",
        "            control = True\n",
        "        ).add_to(self)\n",
        "    \n",
        "    except:\n",
        "        print(\"Could not display {}\".format(name))\n",
        "           \n",
        "def download(url, tipo, name):\n",
        "    response = requests.get(url)\n",
        "    \n",
        "    if tipo == \"raster\":\n",
        "        imgref = os.path.join(name + \".tif\")\n",
        "        with open(imgref, 'wb') as fd:\n",
        "            fd.write(response.content)\n",
        "    else:\n",
        "        vec = os.path.join(name + \".geojson\")\n",
        "        with open(vec, 'wb') as fd:\n",
        "            fd.write(response.content)\n",
        "            \n",
        "    return None\n",
        "\n",
        "def download_raster(img, name):\n",
        "    url = img.getDownloadUrl({\n",
        "        'bands': ['VV'],\n",
        "        'region': bb,\n",
        "        'scale' : 10,\n",
        "        'format': 'GEO_TIFF',\n",
        "        'maxPixels': 834607840,\n",
        "        'formatOptions': {\n",
        "            'cloudOptimized': True\n",
        "          }\n",
        "    })\n",
        "    download(url,\"raster\", name)\n",
        "    return None"
      ]
    },
    {
      "cell_type": "code",
      "execution_count": 4,
      "id": "76b79640-c347-4296-87ac-a00c6fc8fbfe",
      "metadata": {
        "id": "76b79640-c347-4296-87ac-a00c6fc8fbfe",
        "colab": {
          "base_uri": "https://localhost:8080/"
        },
        "outputId": "6465cdeb-cb8f-4f20-f63c-5e6efeea1797"
      },
      "outputs": [
        {
          "output_type": "stream",
          "name": "stdout",
          "text": [
            "To authorize access needed by Earth Engine, open the following URL in a web browser and follow the instructions. If the web browser does not start automatically, please manually browse the URL below.\n",
            "\n",
            "    https://code.earthengine.google.com/client-auth?scopes=https%3A//www.googleapis.com/auth/earthengine%20https%3A//www.googleapis.com/auth/devstorage.full_control&request_id=zw3RyAGJ_zSviH9hbRG4bo8lxELapsGgPlni4M3JHYQ&tc=mTd3mFmxidbAabuDmFWzwres2a2UTtuuHXZ04hLnGho&cc=J-7es62QlK2w7B4gup7pW5pUsYODLrdkH4diSSIutuI\n",
            "\n",
            "The authorization workflow will generate a code, which you should paste in the box below.\n",
            "Enter verification code: 4/1ARtbsJpCBPdDVfoD08cQo6u-svt7enlKiEVRVXCbZZRtZEEnyUX1OwC_mPk\n",
            "\n",
            "Successfully saved authorization token.\n"
          ]
        }
      ],
      "source": [
        "#start_time = time.time()\n",
        "# Trigger the authentication flow.\n",
        "\n",
        "ee.Authenticate()\n",
        "\n",
        "# Initialize the library.\n",
        "ee.Initialize()\n",
        "maxPixels: 6362493000\n",
        "\n",
        "sDate0 = year + '-01-01'    #last 6 months 2021\n",
        "fDate = year + '-12-31'\n",
        "\n",
        "csvfilename = \"Serbia_navigable_inland_waterways_\" + year + \".csv\"\n",
        "\n",
        "image_viz_params = {\n",
        "    'bands': ['VV'],\n",
        "    'min': 0.0,\n",
        "    'max': 1.0,\n",
        "    #'gamma': [0.95, 1.1, 1]\n",
        "}"
      ]
    },
    {
      "cell_type": "code",
      "execution_count": 10,
      "id": "556eb445",
      "metadata": {
        "id": "556eb445",
        "outputId": "438ca398-375a-4816-99fe-10641d70f087",
        "colab": {
          "base_uri": "https://localhost:8080/"
        }
      },
      "outputs": [
        {
          "output_type": "stream",
          "name": "stdout",
          "text": [
            "there are 3 vessels in the river with id 1 and lenght 143 km n_img 145\n",
            "there are 1 vessels in the river with id 2 and lenght 92 km n_img 145\n",
            "there are 1 vessels in the river with id 3 and lenght 54 km n_img 150\n",
            "there are 2 vessels in the river with id 4 and lenght 88 km n_img 108\n",
            "there are 6 vessels in the river with id 5 and lenght 45 km n_img 107\n",
            "there are 0 vessels in the river with id 6 and lenght 147 km n_img 73\n",
            "there are 3 vessels in the river with id 7 and lenght 59 km n_img 145\n",
            "there are 1 vessels in the river with id 8 and lenght 25 km n_img 145\n",
            "there are 13 vessels in the river with id 10 and lenght 104 km n_img 145\n",
            "there are 27 vessels in the river with id 11 and lenght 37 km n_img 145\n",
            "there are 57 vessels in the river with id 12 and lenght 24 km n_img 107\n",
            "there are 170 vessels in the river with id 15 and lenght 59 km n_img 160\n",
            "there are 231 vessels in the river with id 16 and lenght 117 km n_img 129\n",
            "there are 64 vessels in the river with id 17 and lenght 46 km n_img 113\n",
            "there are 3 vessels in the river with id 18 and lenght 21 km n_img 108\n",
            "there are 746 vessels in the river with id 19 and lenght 238 km n_img 217\n",
            "there are 76 vessels in the river with id 20 and lenght 19 km n_img 109\n",
            "there are 29 vessels in the river with id 21 and lenght 121 km n_img 113\n",
            "there are 60 vessels in the river with id 22 and lenght 49 km n_img 161\n",
            "there are 1 vessels in the canal with id 101 and lenght 123 km n_img 148\n",
            "there are 1 vessels in the canal with id 102 and lenght 29 km n_img 108\n",
            "there are 2 vessels in the canal with id 103 and lenght 12 km n_img 121\n",
            "there are 4 vessels in the canal with id 104 and lenght 36 km n_img 145\n",
            "there are 0 vessels in the canal with id 106 and lenght 11 km n_img 144\n",
            "there are 7 vessels in the canal with id 107 and lenght 20 km n_img 142\n",
            "there are 1 vessels in the canal with id 108 and lenght 46 km n_img 109\n",
            "there are 3 vessels in the canal with id 110 and lenght 20 km n_img 107\n",
            "there are 4 vessels in the canal with id 111 and lenght 55 km n_img 107\n",
            "there are 0 vessels in the canal with id 112 and lenght 36 km n_img 137\n",
            "there are 7 vessels in the canal with id 113 and lenght 49 km n_img 108\n",
            "\n",
            "1341 kms of Navigable rivers and lakes\n",
            "390 kms of Navigable canals\n",
            "Total of 1731 kms of Inland waterways\n"
          ]
        }
      ],
      "source": [
        "f = open('waterway_poly6.geojson')\n",
        "data1 = json.load(f)\n",
        "\n",
        "header = ['id', 'length', 'vessels', 'imgs', 'dens' + year]\n",
        "with open(csvfilename, 'w', encoding='UTF8') as f1:\n",
        "    writer = csv.writer(f1)\n",
        "    writer.writerow(header)\n",
        "    \n",
        "\n",
        "    tot_len_rivers = 0\n",
        "    tot_len_canals = 0\n",
        "    for i in range(len(data1['features'])):\n",
        "        for m in range [1,13]:\n",
        "            #print(data1['features'][i]['properties']['id'])\n",
        "            m1 = ('0' if m < 10 else '') + m\n",
        "            \n",
        "            date1 = year + '-' + m1 +'-01'\n",
        "            date2 = year + '-' + m1 + '-' + str(calendar.monthrange(int(year),m))\n",
        "            \n",
        "            coords = data1['features'][i]['geometry']['coordinates']\n",
        "            [j.pop(2) for j in coords[0][0]]\n",
        "            id1 = data1['features'][i]['properties']['id']\n",
        "            type1 = data1['features'][i]['properties']['type']\n",
        "            lenkm1 = data1['features'][i]['properties']['len_km']\n",
        "            aoi = ee.Geometry.Polygon(coords[0][0])\n",
        "            \n",
        "            if id1 ==19:\n",
        "                #print(id1)\n",
        "\n",
        "                imgVV = (ee.ImageCollection('COPERNICUS/S1_GRD_FLOAT')   #S1_GRD_FLOAT\n",
        "                        .filter(ee.Filter.listContains('transmitterReceiverPolarisation', 'VV')) \n",
        "                        .filter(ee.Filter.eq('instrumentMode', 'IW'))\n",
        "                        .select('VV')\n",
        "                        .filterDate(date1, date2)\n",
        "                        .filterBounds(aoi)\n",
        "                        #.reduce(ee.Reducer.percentile([50]))\n",
        "                        )\n",
        "\n",
        "                imgVV_fixed = imgVV.max().clip(aoi).toUint8()\n",
        "                im = imgVV_fixed\n",
        "\n",
        "                center = list(aoi.centroid().getInfo().values())[1][1], list(aoi.centroid().getInfo().values())[1][0]\n",
        "\n",
        "                ####### map\n",
        "                #map1 = folium.Map(location=center, zoom_start=10)\n",
        "                #folium.Map.add_ee_layer = add_ee_layer\n",
        "                #map1.add_ee_layer(im, image_viz_params, 'false color composite')\n",
        "                #display(map1)\n",
        "\n",
        "                classes = im.reduceToVectors(\n",
        "                    **{\n",
        "                    'reducer': ee.Reducer.countEvery(),\n",
        "                    'geometry': aoi.getInfo(),\n",
        "                    'scale': 10,\n",
        "                    'maxPixels': 100000000\n",
        "                })\n",
        "\n",
        "                vessels = (ee.FeatureCollection(classes).filter(ee.Filter.gt('count', 15)).filter(ee.Filter.lt('count', 10000)))\n",
        "                vessels_centroids = vessels.map(lambda f: f.centroid(10))\n",
        "\n",
        "                #vessels_centroids1 = vessels_centroids.intersection(aoi)\n",
        "                vessels_centroids1 = vessels_centroids.filter(ee.Filter.bounds(aoi))\n",
        "                n_vessels = vessels_centroids1.size().getInfo()\n",
        "                n_imgs = imgVV.size().getInfo()\n",
        "                dens = round(100*n_vessels/n_imgs,2)\n",
        "\n",
        "                print(\"there are\", n_vessels, \"vessels\", \"in the\", type1, \"with id\", id1, \"and length\", lenkm1, \"km\", \"n_img\", imgVV.size().getInfo(), \" month\", m)\n",
        "                writer.writerow([id1, lenkm1, n_vessels, n_imgs, dens])\n",
        "                \n",
        "                if n_vessels > 0:\n",
        "                    #downloadUrl1 = vessels_centroids1.getDownloadURL(**{'filetype': 'GEOJSON'})\n",
        "                    #download(downloadUrl1, \"vessels\", \"vessels_id_\" + str(id1) + \"_\" + year)\n",
        "                    if type1 == \"river\":\n",
        "                        tot_len_rivers += lenkm1\n",
        "                    else:\n",
        "                        tot_len_canals += lenkm1\n",
        "\n",
        "print()\n",
        "print(tot_len_rivers, \"kms of Navigable rivers and lakes\")\n",
        "print(tot_len_canals, \"kms of Navigable canals\")\n",
        "print(\"Total of\", tot_len_rivers + tot_len_canals, \"kms of Inland waterways\")"
      ]
    },
    {
      "cell_type": "code",
      "source": [
        "\n"
      ],
      "metadata": {
        "colab": {
          "base_uri": "https://localhost:8080/"
        },
        "id": "Giyr-WuXB7Ia",
        "outputId": "1fe37226-6cc6-4616-f66f-2c5d1c1d2cbc"
      },
      "id": "Giyr-WuXB7Ia",
      "execution_count": 10,
      "outputs": [
        {
          "output_type": "execute_result",
          "data": {
            "text/plain": [
              "31"
            ]
          },
          "metadata": {},
          "execution_count": 10
        }
      ]
    }
  ],
  "metadata": {
    "kernelspec": {
      "display_name": "Python 3 (ipykernel)",
      "language": "python",
      "name": "python3"
    },
    "language_info": {
      "codemirror_mode": {
        "name": "ipython",
        "version": 3
      },
      "file_extension": ".py",
      "mimetype": "text/x-python",
      "name": "python",
      "nbconvert_exporter": "python",
      "pygments_lexer": "ipython3",
      "version": "3.7.12"
    },
    "colab": {
      "provenance": [],
      "collapsed_sections": [],
      "include_colab_link": true
    }
  },
  "nbformat": 4,
  "nbformat_minor": 5
}